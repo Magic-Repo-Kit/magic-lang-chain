{
 "cells": [
  {
   "cell_type": "markdown",
   "metadata": {},
   "source": [
    "# Manipulating inputs & output(操作输入输出)\n",
    "RunnableParallel 可以用于操作一个 Runnable 的输出，使其与序列中下一个 Runnable 的输入格式匹配。\n",
    "\n",
    "这里预期 prompt 的输入应该是一个带有“context”和“question”键的映射。用户输入只是问题。因此，我们需要使用我们的检索器获取上下文，并将用户输入传递到“question”键下。"
   ]
  },
  {
   "cell_type": "code",
   "execution_count": 3,
   "metadata": {},
   "outputs": [
    {
     "data": {
      "text/plain": [
       "'小王昨天去了北京。'"
      ]
     },
     "execution_count": 3,
     "metadata": {},
     "output_type": "execute_result"
    }
   ],
   "source": [
    "from langchain.chat_models import ChatOpenAI\n",
    "from langchain.embeddings import OpenAIEmbeddings\n",
    "from langchain.prompts import ChatPromptTemplate\n",
    "from langchain.vectorstores.faiss import FAISS\n",
    "from langchain_core.output_parsers import StrOutputParser\n",
    "from langchain_core.runnables import RunnablePassthrough,RunnableParallel\n",
    "\n",
    "# 创建向量库\n",
    "vectorstore = FAISS.from_texts(\n",
    "  [\"小王昨天去了北京，后天回上海\",\"小李昨天去了上海，后天回北京\"],\n",
    "  embedding=OpenAIEmbeddings(\n",
    "\n",
    "  )\n",
    ")\n",
    "retriever=vectorstore.as_retriever()\n",
    "\n",
    "# 提示词模板String\n",
    "template=\"\"\"只回答关于Context里内容的问题。如果在Context内容未找到答案将如实告诉用户：抱歉我还未学习该知识，请谅解。:\n",
    "Context: {context}\n",
    "\n",
    "Question: {question}\n",
    "\"\"\"\n",
    "\n",
    "# 创建提示词模板\n",
    "prompt = ChatPromptTemplate.from_template(template)\n",
    "\n",
    "# 创建AI模型\n",
    "model = ChatOpenAI(\n",
    "\n",
    ")\n",
    "\n",
    "retriever_chain = (\n",
    "  {\"context\":retriever,\"question\":RunnablePassthrough()}\n",
    "  | prompt\n",
    "  | model\n",
    "  | StrOutputParser()\n",
    ")\n",
    "\n",
    "retriever_chain.invoke(\"小王昨天去哪了\")\n"
   ]
  },
  {
   "cell_type": "markdown",
   "metadata": {},
   "source": [
    "请注意，当使用RunnableParallel与另一个Runnable组合时，我们甚至不需要将字典包装在RunnableParallel类中 - 类型转换已经为我们处理了。在链的上下文中，这两者是等价的："
   ]
  },
  {
   "cell_type": "code",
   "execution_count": 4,
   "metadata": {},
   "outputs": [
    {
     "data": {
      "text/plain": [
       "{\n",
       "  context: VectorStoreRetriever(tags=['FAISS', 'OpenAIEmbeddings'], vectorstore=<langchain_community.vectorstores.faiss.FAISS object at 0x000001D2B4F80C40>),\n",
       "  question: RunnablePassthrough()\n",
       "}"
      ]
     },
     "execution_count": 4,
     "metadata": {},
     "output_type": "execute_result"
    }
   ],
   "source": [
    "{\"context\": retriever, \"question\": RunnablePassthrough()}\n",
    "RunnableParallel({\"context\": retriever, \"question\": RunnablePassthrough()}) | prompt | model | StrOutputParser()\n",
    "RunnableParallel(context=retriever, question=RunnablePassthrough())"
   ]
  },
  {
   "cell_type": "markdown",
   "metadata": {},
   "source": [
    "### 并行化操作(Parallelize steps)\n",
    "RunnableParallel（又名RunnableMap）使得在并行执行多个Runnables，并将这些Runnables的输出作为一个映射返回变得容易。"
   ]
  },
  {
   "cell_type": "code",
   "execution_count": 5,
   "metadata": {},
   "outputs": [
    {
     "data": {
      "text/plain": [
       "{'where': AIMessage(content='北京是中国的首都，位于中国北部，地处华北平原的西北部。'),\n",
       " 'play': AIMessage(content='北京有许多著名的景点和地标，例如故宫、天安门广场、颐和园、长城等。此外，你还可以到798艺术区欣赏当代艺术作品，游览南锣鼓巷的胡同文化，品尝北京烤鸭和老北京火锅，体验京剧表演等。北京还有许多博物馆、公园和历史文化街区等值得一游。')}"
      ]
     },
     "execution_count": 5,
     "metadata": {},
     "output_type": "execute_result"
    }
   ],
   "source": [
    "where_chain = ChatPromptTemplate.from_template(\"告诉我 {topic} 在哪里\") | model \n",
    "play_chain = ChatPromptTemplate.from_template(\"告诉我 {topic} 有什么好玩的\") | model  \n",
    "\n",
    "map_chain = RunnableParallel(where=where_chain, play=play_chain)\n",
    "\n",
    "map_chain.invoke({\"topic\": \"北京\"})\n"
   ]
  }
 ],
 "metadata": {
  "kernelspec": {
   "display_name": "Python 3",
   "language": "python",
   "name": "python3"
  },
  "language_info": {
   "codemirror_mode": {
    "name": "ipython",
    "version": 3
   },
   "file_extension": ".py",
   "mimetype": "text/x-python",
   "name": "python",
   "nbconvert_exporter": "python",
   "pygments_lexer": "ipython3",
   "version": "3.10.11"
  }
 },
 "nbformat": 4,
 "nbformat_minor": 2
}
