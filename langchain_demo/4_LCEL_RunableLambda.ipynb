{
 "cells": [
  {
   "cell_type": "markdown",
   "metadata": {},
   "source": [
    "# Run custom functions(运行自定义函数)\n",
    "\n",
    "您可以在管道中使用任意函数。\n",
    "请注意，这些函数的所有输入都需要是一个单一参数。如果您有一个接受多个参数的函数，您应该编写一个包装器来接受单个输入并将其解压成多个参数"
   ]
  },
  {
   "cell_type": "code",
   "execution_count": 1,
   "metadata": {},
   "outputs": [
    {
     "data": {
      "text/plain": [
       "AIMessage(content='3 + 7 = 10.')"
      ]
     },
     "execution_count": 1,
     "metadata": {},
     "output_type": "execute_result"
    }
   ],
   "source": [
    "from operator import itemgetter\n",
    "\n",
    "from langchain.chat_models import ChatOpenAI\n",
    "from langchain.prompts import ChatPromptTemplate\n",
    "from langchain_core.runnables import RunnableLambda\n",
    "\n",
    "# 获取单文本文本长度\n",
    "def length_function(text):\n",
    "  return len(text)\n",
    "\n",
    "# 获取多文本文本长度\n",
    "def _multi_length_function(text1, text2):\n",
    "  return len(text1) + len(text2)\n",
    "\n",
    "# 获取多文本文本长度\n",
    "def _multi_length_function(_dict):\n",
    "  return len(_dict[\"text1\"]) + len(_dict[\"text2\"])\n",
    "\n",
    "# 定义会话基础模板\n",
    "promt = ChatPromptTemplate.from_template(\"{a}+{b} 等于多少？\")\n",
    "\n",
    "# 创建AI模型\n",
    "model = ChatOpenAI(\n",
    "\n",
    ")\n",
    "\n",
    "base_chain = promt | model\n",
    "\n",
    "chain = (\n",
    "  {\n",
    "    \"a\": itemgetter(\"foo\") | RunnableLambda(length_function),\n",
    "     \"b\": {\"text1\":itemgetter(\"foo\"), \"text2\":itemgetter(\"bar\")} | RunnableLambda(_multi_length_function),\n",
    "  } | base_chain\n",
    ")\n",
    "\n",
    "chain.invoke({\"foo\":\"bar\", \"bar\":\"abcd\"})\n",
    "\n",
    "\n"
   ]
  },
  {
   "cell_type": "markdown",
   "metadata": {},
   "source": [
    "### Accepting a Runnable Config(接收一个可运行的配置)\n",
    "Runnable lambda 可以选择接受 RunnableConfig，它们可以使用它来将回调、标签和其他配置信息传递给嵌套运行。\n"
   ]
  },
  {
   "cell_type": "code",
   "execution_count": 7,
   "metadata": {},
   "outputs": [
    {
     "name": "stdout",
     "output_type": "stream",
     "text": [
      "{'foo': 'bar'}\n",
      "Tokens Used: 69\n",
      "\tPrompt Tokens: 63\n",
      "\tCompletion Tokens: 6\n",
      "Successful Requests: 1\n",
      "Total Cost (USD): $0.00010650000000000001\n"
     ]
    }
   ],
   "source": [
    "from langchain_core.output_parsers import StrOutputParser\n",
    "from langchain_core.runnables import RunnableConfig\n",
    "\n",
    "import json\n",
    "\n",
    "def parse_or_fix(text: str, config: RunnableConfig):\n",
    "    fixing_chain = (\n",
    "        ChatPromptTemplate.from_template(\n",
    "            \"修复以下json数据:\\n\\n```text\\n{input}\\n```\\nError: {error}\"\n",
    "            \" 不要描述, 仅回答修复后的数据就行.\"\n",
    "        )\n",
    "        | model\n",
    "        | StrOutputParser()\n",
    "    )\n",
    "    for _ in range(3):\n",
    "        try:\n",
    "            return json.loads(text)\n",
    "        except Exception as e:\n",
    "            text = fixing_chain.invoke({\"input\": text, \"error\": e}, config)\n",
    "    return \"Failed to parse\"\n",
    "\n",
    "from langchain.callbacks import get_openai_callback\n",
    "\n",
    "with get_openai_callback() as cb:\n",
    "  out = RunnableLambda(parse_or_fix).invoke(\n",
    "    \"{foo: bar}\",{\"tags\": [\"my-tag\"], \"callbacks\": [cb]}\n",
    "  )\n",
    "  print(out)\n",
    "  print(cb)"
   ]
  }
 ],
 "metadata": {
  "kernelspec": {
   "display_name": "Python 3",
   "language": "python",
   "name": "python3"
  },
  "language_info": {
   "codemirror_mode": {
    "name": "ipython",
    "version": 3
   },
   "file_extension": ".py",
   "mimetype": "text/x-python",
   "name": "python",
   "nbconvert_exporter": "python",
   "pygments_lexer": "ipython3",
   "version": "3.10.11"
  }
 },
 "nbformat": 4,
 "nbformat_minor": 2
}
